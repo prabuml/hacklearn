{
 "cells": [
  {
   "cell_type": "markdown",
   "metadata": {},
   "source": [
    "# Text - Decision Tree"
   ]
  },
  {
   "cell_type": "code",
   "execution_count": 8,
   "metadata": {
    "collapsed": true
   },
   "outputs": [],
   "source": [
    "emails=read.csv(\"emails.csv\",stringsAsFactors=FALSE)"
   ]
  },
  {
   "cell_type": "code",
   "execution_count": 9,
   "metadata": {
    "collapsed": false
   },
   "outputs": [
    {
     "name": "stdout",
     "output_type": "stream",
     "text": [
      "'data.frame':\t5728 obs. of  2 variables:\n",
      " $ text: chr  \"Subject: naturally irresistible your corporate identity  lt is really hard to recollect a company : the  market is full of suqg\"| __truncated__ \"Subject: the stock trading gunslinger  fanny is merrill but muzo not colza attainder and penultimate like esmark perspicuous ra\"| __truncated__ \"Subject: unbelievable new homes made easy  im wanting to show you this  homeowner  you have been pre - approved for a $ 454 , 1\"| __truncated__ \"Subject: 4 color printing special  request additional information now ! click here  click here for a printable version of our o\"| __truncated__ ...\n",
      " $ spam: int  1 1 1 1 1 1 1 1 1 1 ...\n"
     ]
    }
   ],
   "source": [
    "str(emails)"
   ]
  },
  {
   "cell_type": "code",
   "execution_count": 10,
   "metadata": {
    "collapsed": false
   },
   "outputs": [
    {
     "data": {
      "text/plain": [
       "\n",
       "   0    1 \n",
       "4360 1368 "
      ]
     },
     "execution_count": 10,
     "metadata": {},
     "output_type": "execute_result"
    }
   ],
   "source": [
    "table(emails$spam)"
   ]
  },
  {
   "cell_type": "code",
   "execution_count": 4,
   "metadata": {
    "collapsed": false
   },
   "outputs": [
    {
     "name": "stderr",
     "output_type": "stream",
     "text": [
      "Loading required package: NLP\n"
     ]
    }
   ],
   "source": [
    "library(tm)"
   ]
  },
  {
   "cell_type": "code",
   "execution_count": 5,
   "metadata": {
    "collapsed": true
   },
   "outputs": [],
   "source": [
    "library(SnowballC)"
   ]
  },
  {
   "cell_type": "markdown",
   "metadata": {},
   "source": [
    "corpus - create collection of document and makes preprocessing easier"
   ]
  },
  {
   "cell_type": "code",
   "execution_count": 11,
   "metadata": {
    "collapsed": true
   },
   "outputs": [],
   "source": [
    "corpus = Corpus(VectorSource(emails$text))"
   ]
  },
  {
   "cell_type": "code",
   "execution_count": 12,
   "metadata": {
    "collapsed": false
   },
   "outputs": [
    {
     "data": {
      "text/plain": [
       "<<VCorpus>>\n",
       "Metadata:  corpus specific: 0, document level (indexed): 0\n",
       "Content:  documents: 5728"
      ]
     },
     "execution_count": 12,
     "metadata": {},
     "output_type": "execute_result"
    }
   ],
   "source": [
    "corpus"
   ]
  },
  {
   "cell_type": "markdown",
   "metadata": {},
   "source": [
    "Convert upper case to lower case"
   ]
  },
  {
   "cell_type": "code",
   "execution_count": null,
   "metadata": {
    "collapsed": true
   },
   "outputs": [],
   "source": [
    "corpus = tm_map(corpus, content_transformer(tolower))"
   ]
  },
  {
   "cell_type": "markdown",
   "metadata": {},
   "source": [
    "Remove punctuations"
   ]
  },
  {
   "cell_type": "code",
   "execution_count": 10,
   "metadata": {
    "collapsed": true
   },
   "outputs": [],
   "source": [
    "corpus = tm_map(corpus, removePunctuation)"
   ]
  },
  {
   "cell_type": "markdown",
   "metadata": {},
   "source": [
    "Remove stopwords such as is, the "
   ]
  },
  {
   "cell_type": "code",
   "execution_count": 11,
   "metadata": {
    "collapsed": true
   },
   "outputs": [],
   "source": [
    "corpus = tm_map(corpus, removeWords, stopwords(\"english\"))"
   ]
  },
  {
   "cell_type": "markdown",
   "metadata": {},
   "source": [
    "Stem the document. Replace removed, remove to remov"
   ]
  },
  {
   "cell_type": "code",
   "execution_count": 12,
   "metadata": {
    "collapsed": true
   },
   "outputs": [],
   "source": [
    "corpus = tm_map(corpus, stemDocument)"
   ]
  },
  {
   "cell_type": "markdown",
   "metadata": {},
   "source": [
    "create document frequency matrix"
   ]
  },
  {
   "cell_type": "code",
   "execution_count": 13,
   "metadata": {
    "collapsed": false
   },
   "outputs": [],
   "source": [
    "dfm = DocumentTermMatrix(corpus)"
   ]
  },
  {
   "cell_type": "code",
   "execution_count": 14,
   "metadata": {
    "collapsed": false
   },
   "outputs": [
    {
     "data": {
      "text/plain": [
       "<<DocumentTermMatrix (documents: 5728, terms: 28687)>>\n",
       "Non-/sparse entries: 481719/163837417\n",
       "Sparsity           : 100%\n",
       "Maximal term length: 24\n",
       "Weighting          : term frequency (tf)"
      ]
     },
     "execution_count": 14,
     "metadata": {},
     "output_type": "execute_result"
    }
   ],
   "source": [
    "dfm"
   ]
  },
  {
   "cell_type": "markdown",
   "metadata": {},
   "source": [
    "Extract only top frequenct words"
   ]
  },
  {
   "cell_type": "code",
   "execution_count": 16,
   "metadata": {
    "collapsed": false
   },
   "outputs": [],
   "source": [
    "sdfm = removeSparseTerms(dfm, 0.995)"
   ]
  },
  {
   "cell_type": "markdown",
   "metadata": {},
   "source": [
    "Convert the data to required dataframe format"
   ]
  },
  {
   "cell_type": "code",
   "execution_count": 17,
   "metadata": {
    "collapsed": true
   },
   "outputs": [],
   "source": [
    "emailSparse = as.data.frame(as.matrix(sdtm))"
   ]
  },
  {
   "cell_type": "code",
   "execution_count": 18,
   "metadata": {
    "collapsed": true
   },
   "outputs": [],
   "source": [
    "colnames(emailSparse) = make.names(colnames(emailSparse))"
   ]
  },
  {
   "cell_type": "markdown",
   "metadata": {},
   "source": [
    "Find the word with maximun count"
   ]
  },
  {
   "cell_type": "code",
   "execution_count": 19,
   "metadata": {
    "collapsed": false
   },
   "outputs": [
    {
     "data": {
      "text/html": [
       "<strong>enron:</strong> 744"
      ],
      "text/latex": [
       "\\textbf{enron:} 744"
      ],
      "text/markdown": [
       "**enron:** 744"
      ],
      "text/plain": [
       "enron \n",
       "  744 "
      ]
     },
     "execution_count": 19,
     "metadata": {},
     "output_type": "execute_result"
    }
   ],
   "source": [
    "which.max(colSums(emailSparse))"
   ]
  },
  {
   "cell_type": "code",
   "execution_count": 20,
   "metadata": {
    "collapsed": true
   },
   "outputs": [],
   "source": [
    "emailSparse$spam = emails$spam"
   ]
  },
  {
   "cell_type": "markdown",
   "metadata": {},
   "source": [
    "Find the word with large count in spam "
   ]
  },
  {
   "cell_type": "code",
   "execution_count": 21,
   "metadata": {
    "collapsed": false
   },
   "outputs": [
    {
     "data": {
      "text/html": [
       "<ol class=list-inline>\n",
       "\t<li>'compani'</li>\n",
       "\t<li>'spam'</li>\n",
       "\t<li>'subject'</li>\n",
       "\t<li>'will'</li>\n",
       "</ol>\n"
      ],
      "text/latex": [
       "\\begin{enumerate*}\n",
       "\\item 'compani'\n",
       "\\item 'spam'\n",
       "\\item 'subject'\n",
       "\\item 'will'\n",
       "\\end{enumerate*}\n"
      ],
      "text/markdown": [
       "1. 'compani'\n",
       "2. 'spam'\n",
       "3. 'subject'\n",
       "4. 'will'\n",
       "\n",
       "\n"
      ],
      "text/plain": [
       "[1] \"compani\" \"spam\"    \"subject\" \"will\"   "
      ]
     },
     "execution_count": 21,
     "metadata": {},
     "output_type": "execute_result"
    }
   ],
   "source": [
    "colnames(emailSparse[colSums(subset(emailSparse,spam==1))>1000])"
   ]
  },
  {
   "cell_type": "markdown",
   "metadata": {},
   "source": [
    "Find the word with large count in non spam "
   ]
  },
  {
   "cell_type": "code",
   "execution_count": 22,
   "metadata": {
    "collapsed": false
   },
   "outputs": [
    {
     "data": {
      "text/html": [
       "<ol class=list-inline>\n",
       "\t<li>'ect'</li>\n",
       "\t<li>'enron'</li>\n",
       "\t<li>'hou'</li>\n",
       "\t<li>'subject'</li>\n",
       "\t<li>'vinc'</li>\n",
       "\t<li>'will'</li>\n",
       "</ol>\n"
      ],
      "text/latex": [
       "\\begin{enumerate*}\n",
       "\\item 'ect'\n",
       "\\item 'enron'\n",
       "\\item 'hou'\n",
       "\\item 'subject'\n",
       "\\item 'vinc'\n",
       "\\item 'will'\n",
       "\\end{enumerate*}\n"
      ],
      "text/markdown": [
       "1. 'ect'\n",
       "2. 'enron'\n",
       "3. 'hou'\n",
       "4. 'subject'\n",
       "5. 'vinc'\n",
       "6. 'will'\n",
       "\n",
       "\n"
      ],
      "text/plain": [
       "[1] \"ect\"     \"enron\"   \"hou\"     \"subject\" \"vinc\"    \"will\"   "
      ]
     },
     "execution_count": 22,
     "metadata": {},
     "output_type": "execute_result"
    }
   ],
   "source": [
    "colnames(emailSparse[colSums(subset(emailSparse,spam==0))>=5000])"
   ]
  },
  {
   "cell_type": "code",
   "execution_count": 23,
   "metadata": {
    "collapsed": false
   },
   "outputs": [
    {
     "data": {
      "text/html": [
       "<ol class=list-inline>\n",
       "\t<li>'compani'</li>\n",
       "\t<li>'spam'</li>\n",
       "\t<li>'subject'</li>\n",
       "\t<li>'will'</li>\n",
       "</ol>\n"
      ],
      "text/latex": [
       "\\begin{enumerate*}\n",
       "\\item 'compani'\n",
       "\\item 'spam'\n",
       "\\item 'subject'\n",
       "\\item 'will'\n",
       "\\end{enumerate*}\n"
      ],
      "text/markdown": [
       "1. 'compani'\n",
       "2. 'spam'\n",
       "3. 'subject'\n",
       "4. 'will'\n",
       "\n",
       "\n"
      ],
      "text/plain": [
       "[1] \"compani\" \"spam\"    \"subject\" \"will\"   "
      ]
     },
     "execution_count": 23,
     "metadata": {},
     "output_type": "execute_result"
    }
   ],
   "source": [
    "colnames(emailSparse[colSums(subset(emailSparse,spam==1))>=1000])"
   ]
  },
  {
   "cell_type": "code",
   "execution_count": 24,
   "metadata": {
    "collapsed": true
   },
   "outputs": [],
   "source": [
    "library(caTools)"
   ]
  },
  {
   "cell_type": "code",
   "execution_count": 25,
   "metadata": {
    "collapsed": true
   },
   "outputs": [],
   "source": [
    "emailSparse$spam = as.factor(emailSparse$spam)"
   ]
  },
  {
   "cell_type": "code",
   "execution_count": 26,
   "metadata": {
    "collapsed": false
   },
   "outputs": [
    {
     "data": {
      "text/plain": [
       "\n",
       "   0    1 \n",
       "4360 1368 "
      ]
     },
     "execution_count": 26,
     "metadata": {},
     "output_type": "execute_result"
    }
   ],
   "source": [
    "table(emailSparse$spam)"
   ]
  },
  {
   "cell_type": "code",
   "execution_count": 27,
   "metadata": {
    "collapsed": true
   },
   "outputs": [],
   "source": [
    "set.seed(123)"
   ]
  },
  {
   "cell_type": "code",
   "execution_count": 28,
   "metadata": {
    "collapsed": true
   },
   "outputs": [],
   "source": [
    "library(caTools)"
   ]
  },
  {
   "cell_type": "code",
   "execution_count": 29,
   "metadata": {
    "collapsed": true
   },
   "outputs": [],
   "source": [
    "spl = sample.split(emailSparse$spam, SplitRatio = 0.7)"
   ]
  },
  {
   "cell_type": "code",
   "execution_count": 30,
   "metadata": {
    "collapsed": false
   },
   "outputs": [
    {
     "data": {
      "text/plain": [
       "spl\n",
       "FALSE  TRUE \n",
       " 1718  4010 "
      ]
     },
     "execution_count": 30,
     "metadata": {},
     "output_type": "execute_result"
    }
   ],
   "source": [
    "table(spl)"
   ]
  },
  {
   "cell_type": "code",
   "execution_count": 31,
   "metadata": {
    "collapsed": false
   },
   "outputs": [],
   "source": [
    "trainSparse = subset(emailSparse, spl==TRUE)"
   ]
  },
  {
   "cell_type": "code",
   "execution_count": 32,
   "metadata": {
    "collapsed": false
   },
   "outputs": [
    {
     "data": {
      "text/plain": [
       "\n",
       "   0    1 \n",
       "3052  958 "
      ]
     },
     "execution_count": 32,
     "metadata": {},
     "output_type": "execute_result"
    }
   ],
   "source": [
    "table(trainSparse$spam)"
   ]
  },
  {
   "cell_type": "code",
   "execution_count": 33,
   "metadata": {
    "collapsed": true
   },
   "outputs": [],
   "source": [
    "testSparse = subset(emailSparse, spl==FALSE)"
   ]
  },
  {
   "cell_type": "code",
   "execution_count": 34,
   "metadata": {
    "collapsed": true
   },
   "outputs": [],
   "source": [
    "library(rpart)"
   ]
  },
  {
   "cell_type": "code",
   "execution_count": 35,
   "metadata": {
    "collapsed": true
   },
   "outputs": [],
   "source": [
    "library(rpart.plot)"
   ]
  },
  {
   "cell_type": "markdown",
   "metadata": {},
   "source": [
    "Build the decision tree model"
   ]
  },
  {
   "cell_type": "code",
   "execution_count": 57,
   "metadata": {
    "collapsed": true
   },
   "outputs": [],
   "source": [
    "spamCART = rpart(spam ~ ., data=trainSparse, method=\"class\",cp=0.1)"
   ]
  },
  {
   "cell_type": "markdown",
   "metadata": {},
   "source": [
    "Predict for test case"
   ]
  },
  {
   "cell_type": "code",
   "execution_count": 58,
   "metadata": {
    "collapsed": true
   },
   "outputs": [],
   "source": [
    "predictCART = predict(spamCART, newdata=testSparse, type=\"class\")"
   ]
  },
  {
   "cell_type": "code",
   "execution_count": 40,
   "metadata": {
    "collapsed": false
   },
   "outputs": [
    {
     "data": {
      "text/plain": [
       "predictCART\n",
       "   0    1 \n",
       "1258  460 "
      ]
     },
     "execution_count": 40,
     "metadata": {},
     "output_type": "execute_result"
    }
   ],
   "source": [
    "table(predictCART)"
   ]
  },
  {
   "cell_type": "code",
   "execution_count": 59,
   "metadata": {
    "collapsed": false
   },
   "outputs": [
    {
     "data": {
      "text/plain": [
       "   predictCART\n",
       "       0    1\n",
       "  0 1105  203\n",
       "  1    8  402"
      ]
     },
     "execution_count": 59,
     "metadata": {},
     "output_type": "execute_result"
    }
   ],
   "source": [
    "table(testSparse$spam, predictCART)"
   ]
  },
  {
   "cell_type": "code",
   "execution_count": 60,
   "metadata": {
    "collapsed": false
   },
   "outputs": [],
   "source": [
    "library(caret)"
   ]
  },
  {
   "cell_type": "markdown",
   "metadata": {},
   "source": [
    "Set cross-validation as 10"
   ]
  },
  {
   "cell_type": "code",
   "execution_count": 43,
   "metadata": {
    "collapsed": true
   },
   "outputs": [],
   "source": [
    "numFolds = trainControl( method = \"cv\", number = 10 )"
   ]
  },
  {
   "cell_type": "code",
   "execution_count": 44,
   "metadata": {
    "collapsed": false
   },
   "outputs": [],
   "source": [
    "cpGrid = expand.grid( .cp = seq(0.01,0.5,0.01)) "
   ]
  },
  {
   "cell_type": "code",
   "execution_count": 45,
   "metadata": {
    "collapsed": false
   },
   "outputs": [
    {
     "data": {
      "text/plain": [
       "CART \n",
       "\n",
       "4010 samples\n",
       "2330 predictors\n",
       "   2 classes: '0', '1' \n",
       "\n",
       "No pre-processing\n",
       "Resampling: Cross-Validated (10 fold) \n",
       "Summary of sample sizes: 3608, 3609, 3609, 3609, 3609, 3609, ... \n",
       "Resampling results across tuning parameters:\n",
       "\n",
       "  cp    Accuracy   Kappa      Accuracy SD   Kappa SD  \n",
       "  0.01  0.9334076  0.8231324  0.0121730798  0.03124879\n",
       "  0.02  0.9224331  0.7933381  0.0130369334  0.03527999\n",
       "  0.03  0.9224337  0.7931073  0.0132967404  0.03577457\n",
       "  0.04  0.9094680  0.7637460  0.0136241503  0.03138312\n",
       "  0.05  0.9062298  0.7592390  0.0142500583  0.03126693\n",
       "  0.06  0.9009904  0.7578630  0.0134705600  0.02987518\n",
       "  0.07  0.9009904  0.7578630  0.0134705600  0.02987518\n",
       "  0.08  0.9009904  0.7578630  0.0134705600  0.02987518\n",
       "  0.09  0.8920023  0.7402830  0.0282912217  0.05779572\n",
       "  0.10  0.8733033  0.7026357  0.0205268631  0.04116617\n",
       "  0.11  0.8733033  0.7026357  0.0205268631  0.04116617\n",
       "  0.12  0.8733033  0.7026357  0.0205268631  0.04116617\n",
       "  0.13  0.8688146  0.6942909  0.0235171995  0.04596020\n",
       "  0.14  0.8508513  0.6624550  0.0298350795  0.05431414\n",
       "  0.15  0.8463662  0.6550405  0.0244008916  0.04497468\n",
       "  0.16  0.8463662  0.6550405  0.0244008916  0.04497468\n",
       "  0.17  0.8341468  0.5826014  0.0331573311  0.20816632\n",
       "  0.18  0.7855480  0.2443283  0.0325727436  0.31575298\n",
       "  0.19  0.7610979  0.0000000  0.0007779339  0.00000000\n",
       "  0.20  0.7610979  0.0000000  0.0007779339  0.00000000\n",
       "  0.21  0.7610979  0.0000000  0.0007779339  0.00000000\n",
       "  0.22  0.7610979  0.0000000  0.0007779339  0.00000000\n",
       "  0.23  0.7610979  0.0000000  0.0007779339  0.00000000\n",
       "  0.24  0.7610979  0.0000000  0.0007779339  0.00000000\n",
       "  0.25  0.7610979  0.0000000  0.0007779339  0.00000000\n",
       "  0.26  0.7610979  0.0000000  0.0007779339  0.00000000\n",
       "  0.27  0.7610979  0.0000000  0.0007779339  0.00000000\n",
       "  0.28  0.7610979  0.0000000  0.0007779339  0.00000000\n",
       "  0.29  0.7610979  0.0000000  0.0007779339  0.00000000\n",
       "  0.30  0.7610979  0.0000000  0.0007779339  0.00000000\n",
       "  0.31  0.7610979  0.0000000  0.0007779339  0.00000000\n",
       "  0.32  0.7610979  0.0000000  0.0007779339  0.00000000\n",
       "  0.33  0.7610979  0.0000000  0.0007779339  0.00000000\n",
       "  0.34  0.7610979  0.0000000  0.0007779339  0.00000000\n",
       "  0.35  0.7610979  0.0000000  0.0007779339  0.00000000\n",
       "  0.36  0.7610979  0.0000000  0.0007779339  0.00000000\n",
       "  0.37  0.7610979  0.0000000  0.0007779339  0.00000000\n",
       "  0.38  0.7610979  0.0000000  0.0007779339  0.00000000\n",
       "  0.39  0.7610979  0.0000000  0.0007779339  0.00000000\n",
       "  0.40  0.7610979  0.0000000  0.0007779339  0.00000000\n",
       "  0.41  0.7610979  0.0000000  0.0007779339  0.00000000\n",
       "  0.42  0.7610979  0.0000000  0.0007779339  0.00000000\n",
       "  0.43  0.7610979  0.0000000  0.0007779339  0.00000000\n",
       "  0.44  0.7610979  0.0000000  0.0007779339  0.00000000\n",
       "  0.45  0.7610979  0.0000000  0.0007779339  0.00000000\n",
       "  0.46  0.7610979  0.0000000  0.0007779339  0.00000000\n",
       "  0.47  0.7610979  0.0000000  0.0007779339  0.00000000\n",
       "  0.48  0.7610979  0.0000000  0.0007779339  0.00000000\n",
       "  0.49  0.7610979  0.0000000  0.0007779339  0.00000000\n",
       "  0.50  0.7610979  0.0000000  0.0007779339  0.00000000\n",
       "\n",
       "Accuracy was used to select the optimal model using  the largest value.\n",
       "The final value used for the model was cp = 0.01. "
      ]
     },
     "execution_count": 45,
     "metadata": {},
     "output_type": "execute_result"
    }
   ],
   "source": [
    "train(spam ~.,data = trainSparse, method = \"rpart\", trControl = numFolds, tuneGrid = cpGrid )"
   ]
  },
  {
   "cell_type": "code",
   "execution_count": 55,
   "metadata": {
    "collapsed": true
   },
   "outputs": [],
   "source": [
    "spamCART2 = rpart(spam ~ ., data=trainSparse, method=\"class\",cp=0.01)"
   ]
  },
  {
   "cell_type": "code",
   "execution_count": 56,
   "metadata": {
    "collapsed": true
   },
   "outputs": [],
   "source": [
    "predictCART = predict(spamCART2, newdata=testSparse, type=\"class\")"
   ]
  },
  {
   "cell_type": "code",
   "execution_count": 54,
   "metadata": {
    "collapsed": false
   },
   "outputs": [
    {
     "data": {
      "text/plain": [
       "   predictCART\n",
       "       0    1\n",
       "  0 1105  203\n",
       "  1    8  402"
      ]
     },
     "execution_count": 54,
     "metadata": {},
     "output_type": "execute_result"
    }
   ],
   "source": [
    "table(testSparse$spam, predictCART)"
   ]
  }
 ],
 "metadata": {
  "kernelspec": {
   "display_name": "R",
   "language": "R",
   "name": "ir"
  },
  "language_info": {
   "codemirror_mode": "r",
   "file_extension": ".r",
   "mimetype": "text/x-r-source",
   "name": "R",
   "pygments_lexer": "r",
   "version": "3.2.2"
  }
 },
 "nbformat": 4,
 "nbformat_minor": 0
}

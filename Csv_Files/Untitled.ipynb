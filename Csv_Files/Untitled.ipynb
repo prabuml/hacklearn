{
 "cells": [
  {
   "cell_type": "code",
   "execution_count": 1,
   "metadata": {
    "collapsed": true
   },
   "outputs": [],
   "source": [
    "okcupid=read.csv('okcupid.csv')"
   ]
  },
  {
   "cell_type": "code",
   "execution_count": 2,
   "metadata": {
    "collapsed": true
   },
   "outputs": [],
   "source": [
    "s=names(okcupid)"
   ]
  },
  {
   "cell_type": "code",
   "execution_count": 7,
   "metadata": {
    "collapsed": false
   },
   "outputs": [
    {
     "name": "stdout",
     "output_type": "stream",
     "text": [
      " [1] \"username\"    \"age\"         \"body_type\"   \"diet\"        \"drinks\"     \n",
      " [6] \"drugs\"       \"education\"   \"essay0\"      \"essay1\"      \"essay2\"     \n",
      "[11] \"essay3\"      \"essay4\"      \"essay5\"      \"essay6\"      \"essay7\"     \n",
      "[16] \"essay8\"      \"essay9\"      \"ethnicity\"   \"height\"      \"income\"     \n",
      "[21] \"job\"         \"last_online\" \"location\"    \"offspring\"   \"orientation\"\n",
      "[26] \"pets\"        \"religion\"    \"sex\"         \"sign\"        \"smokes\"     \n",
      "[31] \"speaks\"      \"status\"     \n"
     ]
    }
   ],
   "source": [
    "print(s)"
   ]
  },
  {
   "cell_type": "code",
   "execution_count": null,
   "metadata": {
    "collapsed": true
   },
   "outputs": [],
   "source": []
  }
 ],
 "metadata": {
  "kernelspec": {
   "display_name": "R",
   "language": "R",
   "name": "ir"
  },
  "language_info": {
   "codemirror_mode": "r",
   "file_extension": ".r",
   "mimetype": "text/x-r-source",
   "name": "R",
   "pygments_lexer": "r",
   "version": "3.2.2"
  }
 },
 "nbformat": 4,
 "nbformat_minor": 0
}
